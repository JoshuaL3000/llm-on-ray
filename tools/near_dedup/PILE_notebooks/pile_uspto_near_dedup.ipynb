{
 "cells": [
  {
   "cell_type": "markdown",
   "id": "e01a822b-abf8-4327-ae5c-9723ad11c0ab",
   "metadata": {},
   "source": [
    "## Import and define"
   ]
  },
  {
   "cell_type": "code",
   "execution_count": 1,
   "id": "24ffc3f0-f5c7-460e-b400-b35b48f54b0b",
   "metadata": {},
   "outputs": [
    {
     "name": "stdout",
     "output_type": "stream",
     "text": [
      "JAVA_HOME is not set, use default value of /usr/lib/jvm/java-8-openjdk-amd64/\n"
     ]
    },
    {
     "name": "stderr",
     "output_type": "stream",
     "text": [
      "/usr/local/lib/python3.10/dist-packages/pyspark/pandas/__init__.py:50: UserWarning: 'PYARROW_IGNORE_TIMEZONE' environment variable was not set. It is required to set this environment variable to '1' in both driver and executor sides if you use pyarrow>=2.0.0. pandas-on-Spark will set it for you but it does not work if there is a Spark context already launched.\n",
      "  warnings.warn(\n"
     ]
    },
    {
     "data": {
      "text/html": [
       "\n",
       "\t\t\t<script type=\"text/javascript\">\n",
       "\t\t\t<!--\n",
       "\t\t\t\t\n",
       "\t\t\t{\n",
       "\t\t\t\tvar element = document.getElementById('NetworKit_script');\n",
       "\t\t\t\tif (element) {\n",
       "\t\t\t\t\telement.parentNode.removeChild(element);\n",
       "\t\t\t\t}\n",
       "\t\t\t\telement = document.createElement('script');\n",
       "\t\t\t\telement.type = 'text/javascript';\n",
       "\t\t\t\telement.innerHTML = 'function NetworKit_pageEmbed(id) { var i, j; var elements; elements = document.getElementById(id).getElementsByClassName(\"Plot\"); for (i=0; i<elements.length; i++) { elements[i].id = id + \"_Plot_\" + i; var data = elements[i].getAttribute(\"data-image\").split(\"|\"); elements[i].removeAttribute(\"data-image\"); var content = \"<div class=\\\\\"Image\\\\\" id=\\\\\"\" + elements[i].id + \"_Image\\\\\" />\"; elements[i].innerHTML = content; elements[i].setAttribute(\"data-image-index\", 0); elements[i].setAttribute(\"data-image-length\", data.length); for (j=0; j<data.length; j++) { elements[i].setAttribute(\"data-image-\" + j, data[j]); } NetworKit_plotUpdate(elements[i]); elements[i].onclick = function (e) { NetworKit_overlayShow((e.target) ? e.target : e.srcElement); } } elements = document.getElementById(id).getElementsByClassName(\"HeatCell\"); for (i=0; i<elements.length; i++) { var data = parseFloat(elements[i].getAttribute(\"data-heat\")); var color = \"#00FF00\"; if (data <= 1 && data > 0) { color = \"hsla(0, 100%, 75%, \" + (data) + \")\"; } else if (data <= 0 && data >= -1) { color = \"hsla(240, 100%, 75%, \" + (-data) + \")\"; } elements[i].style.backgroundColor = color; } elements = document.getElementById(id).getElementsByClassName(\"Details\"); for (i=0; i<elements.length; i++) { elements[i].setAttribute(\"data-title\", \"-\"); NetworKit_toggleDetails(elements[i]); elements[i].onclick = function (e) { NetworKit_toggleDetails((e.target) ? e.target : e.srcElement); } } elements = document.getElementById(id).getElementsByClassName(\"MathValue\"); for (i=elements.length-1; i>=0; i--) { value = elements[i].innerHTML.trim(); if (value === \"nan\") { elements[i].parentNode.innerHTML = \"\" } } elements = document.getElementById(id).getElementsByClassName(\"SubCategory\"); for (i=elements.length-1; i>=0; i--) { value = elements[i].innerHTML.trim(); if (value === \"\") { elements[i].parentNode.removeChild(elements[i]) } } elements = document.getElementById(id).getElementsByClassName(\"Category\"); for (i=elements.length-1; i>=0; i--) { value = elements[i].innerHTML.trim(); if (value === \"\") { elements[i].parentNode.removeChild(elements[i]) } } var isFirefox = false; try { isFirefox = typeof InstallTrigger !== \"undefined\"; } catch (e) {} if (!isFirefox) { alert(\"Currently the function\\'s output is only fully supported by Firefox.\"); } } function NetworKit_plotUpdate(source) { var index = source.getAttribute(\"data-image-index\"); var data = source.getAttribute(\"data-image-\" + index); var image = document.getElementById(source.id + \"_Image\"); image.style.backgroundImage = \"url(\" + data + \")\"; } function NetworKit_showElement(id, show) { var element = document.getElementById(id); element.style.display = (show) ? \"block\" : \"none\"; } function NetworKit_overlayShow(source) { NetworKit_overlayUpdate(source); NetworKit_showElement(\"NetworKit_Overlay\", true); } function NetworKit_overlayUpdate(source) { document.getElementById(\"NetworKit_Overlay_Title\").innerHTML = source.title; var index = source.getAttribute(\"data-image-index\"); var data = source.getAttribute(\"data-image-\" + index); var image = document.getElementById(\"NetworKit_Overlay_Image\"); image.setAttribute(\"data-id\", source.id); image.style.backgroundImage = \"url(\" + data + \")\"; var link = document.getElementById(\"NetworKit_Overlay_Toolbar_Bottom_Save\"); link.href = data; link.download = source.title + \".svg\"; } function NetworKit_overlayImageShift(delta) { var image = document.getElementById(\"NetworKit_Overlay_Image\"); var source = document.getElementById(image.getAttribute(\"data-id\")); var index = parseInt(source.getAttribute(\"data-image-index\")); var length = parseInt(source.getAttribute(\"data-image-length\")); var index = (index+delta) % length; if (index < 0) { index = length + index; } source.setAttribute(\"data-image-index\", index); NetworKit_overlayUpdate(source); } function NetworKit_toggleDetails(source) { var childs = source.children; var show = false; if (source.getAttribute(\"data-title\") == \"-\") { source.setAttribute(\"data-title\", \"+\"); show = false; } else { source.setAttribute(\"data-title\", \"-\"); show = true; } for (i=0; i<childs.length; i++) { if (show) { childs[i].style.display = \"block\"; } else { childs[i].style.display = \"none\"; } } }';\n",
       "\t\t\t\telement.setAttribute('id', 'NetworKit_script');\n",
       "\t\t\t\tdocument.head.appendChild(element);\n",
       "\t\t\t}\n",
       "\t\t\n",
       "\t\t\t\t\n",
       "\t\t\t{\n",
       "\t\t\t\tvar element = document.getElementById('NetworKit_style');\n",
       "\t\t\t\tif (element) {\n",
       "\t\t\t\t\telement.parentNode.removeChild(element);\n",
       "\t\t\t\t}\n",
       "\t\t\t\telement = document.createElement('style');\n",
       "\t\t\t\telement.type = 'text/css';\n",
       "\t\t\t\telement.innerHTML = '.NetworKit_Page { font-family: Arial, Helvetica, sans-serif; font-size: 14px; } .NetworKit_Page .Value:before { font-family: Arial, Helvetica, sans-serif; font-size: 1.05em; content: attr(data-title) \":\"; margin-left: -2.5em; padding-right: 0.5em; } .NetworKit_Page .Details .Value:before { display: block; } .NetworKit_Page .Value { font-family: monospace; white-space: pre; padding-left: 2.5em; white-space: -moz-pre-wrap !important; white-space: -pre-wrap; white-space: -o-pre-wrap; white-space: pre-wrap; word-wrap: break-word; tab-size: 4; -moz-tab-size: 4; } .NetworKit_Page .Category { clear: both; padding-left: 1em; margin-bottom: 1.5em; } .NetworKit_Page .Category:before { content: attr(data-title); font-size: 1.75em; display: block; margin-left: -0.8em; margin-bottom: 0.5em; } .NetworKit_Page .SubCategory { margin-bottom: 1.5em; padding-left: 1em; } .NetworKit_Page .SubCategory:before { font-size: 1.6em; display: block; margin-left: -0.8em; margin-bottom: 0.5em; } .NetworKit_Page .SubCategory[data-title]:before { content: attr(data-title); } .NetworKit_Page .Block { display: block; } .NetworKit_Page .Block:after { content: \".\"; visibility: hidden; display: block; height: 0; clear: both; } .NetworKit_Page .Block .Thumbnail_Overview, .NetworKit_Page .Block .Thumbnail_ScatterPlot { width: 260px; float: left; } .NetworKit_Page .Block .Thumbnail_Overview img, .NetworKit_Page .Block .Thumbnail_ScatterPlot img { width: 260px; } .NetworKit_Page .Block .Thumbnail_Overview:before, .NetworKit_Page .Block .Thumbnail_ScatterPlot:before { display: block; text-align: center; font-weight: bold; } .NetworKit_Page .Block .Thumbnail_Overview:before { content: attr(data-title); } .NetworKit_Page .HeatCell { font-family: \"Courier New\", Courier, monospace; cursor: pointer; } .NetworKit_Page .HeatCell, .NetworKit_Page .HeatCellName { display: inline; padding: 0.1em; margin-right: 2px; background-color: #FFFFFF } .NetworKit_Page .HeatCellName { margin-left: 0.25em; } .NetworKit_Page .HeatCell:before { content: attr(data-heat); display: inline-block; color: #000000; width: 4em; text-align: center; } .NetworKit_Page .Measure { clear: both; } .NetworKit_Page .Measure .Details { cursor: pointer; } .NetworKit_Page .Measure .Details:before { content: \"[\" attr(data-title) \"]\"; display: block; } .NetworKit_Page .Measure .Details .Value { border-left: 1px dotted black; margin-left: 0.4em; padding-left: 3.5em; pointer-events: none; } .NetworKit_Page .Measure .Details .Spacer:before { content: \".\"; opacity: 0.0; pointer-events: none; } .NetworKit_Page .Measure .Plot { width: 440px; height: 440px; cursor: pointer; float: left; margin-left: -0.9em; margin-right: 20px; } .NetworKit_Page .Measure .Plot .Image { background-repeat: no-repeat; background-position: center center; background-size: contain; height: 100%; pointer-events: none; } .NetworKit_Page .Measure .Stat { width: 500px; float: left; } .NetworKit_Page .Measure .Stat .Group { padding-left: 1.25em; margin-bottom: 0.75em; } .NetworKit_Page .Measure .Stat .Group .Title { font-size: 1.1em; display: block; margin-bottom: 0.3em; margin-left: -0.75em; border-right-style: dotted; border-right-width: 1px; border-bottom-style: dotted; border-bottom-width: 1px; background-color: #D0D0D0; padding-left: 0.2em; } .NetworKit_Page .Measure .Stat .Group .List { -webkit-column-count: 3; -moz-column-count: 3; column-count: 3; } .NetworKit_Page .Measure .Stat .Group .List .Entry { position: relative; line-height: 1.75em; } .NetworKit_Page .Measure .Stat .Group .List .Entry[data-tooltip]:before { position: absolute; left: 0; top: -40px; background-color: #808080; color: #ffffff; height: 30px; line-height: 30px; border-radius: 5px; padding: 0 15px; content: attr(data-tooltip); white-space: nowrap; display: none; } .NetworKit_Page .Measure .Stat .Group .List .Entry[data-tooltip]:after { position: absolute; left: 15px; top: -10px; border-top: 7px solid #808080; border-left: 7px solid transparent; border-right: 7px solid transparent; content: \"\"; display: none; } .NetworKit_Page .Measure .Stat .Group .List .Entry[data-tooltip]:hover:after, .NetworKit_Page .Measure .Stat .Group .List .Entry[data-tooltip]:hover:before { display: block; } .NetworKit_Page .Measure .Stat .Group .List .Entry .MathValue { font-family: \"Courier New\", Courier, monospace; } .NetworKit_Page .Measure:after { content: \".\"; visibility: hidden; display: block; height: 0; clear: both; } .NetworKit_Page .PartitionPie { clear: both; } .NetworKit_Page .PartitionPie img { width: 600px; } #NetworKit_Overlay { left: 0px; top: 0px; display: none; position: absolute; width: 100%; height: 100%; background-color: rgba(0,0,0,0.6); z-index: 1000; } #NetworKit_Overlay_Title { position: absolute; color: white; transform: rotate(-90deg); width: 32em; height: 32em; padding-right: 0.5em; padding-top: 0.5em; text-align: right; font-size: 40px; } #NetworKit_Overlay .button { background: white; cursor: pointer; } #NetworKit_Overlay .button:before { size: 13px; display: inline-block; text-align: center; margin-top: 0.5em; margin-bottom: 0.5em; width: 1.5em; height: 1.5em; } #NetworKit_Overlay .icon-close:before { content: \"X\"; } #NetworKit_Overlay .icon-previous:before { content: \"P\"; } #NetworKit_Overlay .icon-next:before { content: \"N\"; } #NetworKit_Overlay .icon-save:before { content: \"S\"; } #NetworKit_Overlay_Toolbar_Top, #NetworKit_Overlay_Toolbar_Bottom { position: absolute; width: 40px; right: 13px; text-align: right; z-index: 1100; } #NetworKit_Overlay_Toolbar_Top { top: 0.5em; } #NetworKit_Overlay_Toolbar_Bottom { Bottom: 0.5em; } #NetworKit_Overlay_ImageContainer { position: absolute; top: 5%; left: 5%; height: 90%; width: 90%; background-repeat: no-repeat; background-position: center center; background-size: contain; } #NetworKit_Overlay_Image { height: 100%; width: 100%; background-repeat: no-repeat; background-position: center center; background-size: contain; }';\n",
       "\t\t\t\telement.setAttribute('id', 'NetworKit_style');\n",
       "\t\t\t\tdocument.head.appendChild(element);\n",
       "\t\t\t}\n",
       "\t\t\n",
       "\t\t\t\t\n",
       "\t\t\t{\n",
       "\t\t\t\tvar element = document.getElementById('NetworKit_Overlay');\n",
       "\t\t\t\tif (element) {\n",
       "\t\t\t\t\telement.parentNode.removeChild(element);\n",
       "\t\t\t\t}\n",
       "\t\t\t\telement = document.createElement('div');\n",
       "\t\t\t\telement.innerHTML = '<div id=\"NetworKit_Overlay_Toolbar_Top\"><div class=\"button icon-close\" id=\"NetworKit_Overlay_Close\" /></div><div id=\"NetworKit_Overlay_Title\" /> <div id=\"NetworKit_Overlay_ImageContainer\"> <div id=\"NetworKit_Overlay_Image\" /> </div> <div id=\"NetworKit_Overlay_Toolbar_Bottom\"> <div class=\"button icon-previous\" onclick=\"NetworKit_overlayImageShift(-1)\" /> <div class=\"button icon-next\" onclick=\"NetworKit_overlayImageShift(1)\" /> <a id=\"NetworKit_Overlay_Toolbar_Bottom_Save\"><div class=\"button icon-save\" /></a> </div>';\n",
       "\t\t\t\telement.setAttribute('id', 'NetworKit_Overlay');\n",
       "\t\t\t\tdocument.body.appendChild(element);\n",
       "\t\t\t\tdocument.getElementById('NetworKit_Overlay_Close').onclick = function (e) {\n",
       "\t\t\t\t\tdocument.getElementById('NetworKit_Overlay').style.display = 'none';\n",
       "\t\t\t\t}\n",
       "\t\t\t}\n",
       "\t\t\n",
       "\t\t\t-->\n",
       "\t\t\t</script>\n",
       "\t\t"
      ]
     },
     "metadata": {},
     "output_type": "display_data"
    }
   ],
   "source": [
    "import sys\n",
    "cur_path = \"/home/vmagent/app\"\n",
    "sys.path.append(cur_path)\n",
    "from near_dedup import *\n"
   ]
  },
  {
   "cell_type": "markdown",
   "id": "3a51e611-df76-4e69-86b4-addf91ce4306",
   "metadata": {},
   "source": [
    "## Configurate DIR"
   ]
  },
  {
   "cell_type": "code",
   "execution_count": 2,
   "id": "54869228-a39c-441b-b757-ba337dfdd8d5",
   "metadata": {},
   "outputs": [],
   "source": [
    "data_files = get_data_files('/home/vmagent/app/PILE/pile_uspto')\n",
    "dup_dir = \"/home/vmagent/app/PILE_output/pile_uspto/deduplicate\"\n",
    "ngram_size = 13\n",
    "num_perm = 256\n",
    "bands = 9\n",
    "ranges = 13"
   ]
  },
  {
   "cell_type": "markdown",
   "id": "67299966-7ae2-492a-bea6-195721f5ee9f",
   "metadata": {},
   "source": [
    "## Load data into Spark"
   ]
  },
  {
   "cell_type": "code",
   "execution_count": 3,
   "id": "306ef8e3-6a7c-43d9-b4c4-1a941c1e141a",
   "metadata": {},
   "outputs": [
    {
     "name": "stdout",
     "output_type": "stream",
     "text": [
      "Will assign 48 cores and 308492 M memory for spark\n"
     ]
    },
    {
     "name": "stderr",
     "output_type": "stream",
     "text": [
      "23/08/30 16:26:53 WARN Utils: Your hostname, sr414 resolves to a loopback address: 127.0.1.1; using 10.1.2.14 instead (on interface enp134s0f1)\n",
      "23/08/30 16:26:53 WARN Utils: Set SPARK_LOCAL_IP if you need to bind to another address\n",
      "Setting default log level to \"WARN\".\n",
      "To adjust logging level use sc.setLogLevel(newLevel). For SparkR, use setLogLevel(newLevel).\n",
      "23/08/30 16:26:54 WARN NativeCodeLoader: Unable to load native-hadoop library for your platform... using builtin-java classes where applicable\n"
     ]
    },
    {
     "name": "stdout",
     "output_type": "stream",
     "text": [
      "per core memory size is 6.276 GB and shuffle_disk maximum capacity is 8589934592.000 GB\n"
     ]
    }
   ],
   "source": [
    "rdp = SparkDataProcessor()\n",
    "spark=rdp.spark  "
   ]
  },
  {
   "cell_type": "code",
   "execution_count": 4,
   "id": "bd3432d2-9f18-4b49-9747-6b4730e97100",
   "metadata": {
    "scrolled": true
   },
   "outputs": [
    {
     "name": "stdout",
     "output_type": "stream",
     "text": [
      "Load data with RowID started ...\n",
      "/home/vmagent/app/PILE/pile_uspto/data_0_time1600242225_1976.jsonl\n",
      "/home/vmagent/app/PILE/pile_uspto/data_0_time1600288933_1996.jsonl\n",
      "/home/vmagent/app/PILE/pile_uspto/data_0_time1600364422_2006.jsonl\n",
      "/home/vmagent/app/PILE/pile_uspto/data_10_time1600247352_1986.jsonl\n",
      "/home/vmagent/app/PILE/pile_uspto/data_10_time1600397964_2016.jsonl\n",
      "/home/vmagent/app/PILE/pile_uspto/data_11_time1600248055_1987.jsonl\n",
      "/home/vmagent/app/PILE/pile_uspto/data_11_time1600403125_2017.jsonl\n",
      "/home/vmagent/app/PILE/pile_uspto/data_12_time1600248735_1988.jsonl\n",
      "/home/vmagent/app/PILE/pile_uspto/data_12_time1600407882_2018.jsonl\n",
      "/home/vmagent/app/PILE/pile_uspto/data_13_time1600249593_1989.jsonl\n",
      "/home/vmagent/app/PILE/pile_uspto/data_13_time1600413654_2019.jsonl\n",
      "/home/vmagent/app/PILE/pile_uspto/data_14_time1600250414_1990.jsonl\n",
      "/home/vmagent/app/PILE/pile_uspto/data_14_time1600418007_2020.jsonl\n",
      "/home/vmagent/app/PILE/pile_uspto/data_15_time1600251300_1991.jsonl\n",
      "/home/vmagent/app/PILE/pile_uspto/data_16_time1600252232_1992.jsonl\n",
      "/home/vmagent/app/PILE/pile_uspto/data_17_time1600253218_1993.jsonl\n",
      "/home/vmagent/app/PILE/pile_uspto/data_18_time1600254256_1994.jsonl\n",
      "/home/vmagent/app/PILE/pile_uspto/data_19_time1600255349_1995.jsonl\n",
      "/home/vmagent/app/PILE/pile_uspto/data_1_time1600242733_1977.jsonl\n",
      "/home/vmagent/app/PILE/pile_uspto/data_1_time1600290224_1997.jsonl\n",
      "/home/vmagent/app/PILE/pile_uspto/data_1_time1600366285_2007.jsonl\n",
      "/home/vmagent/app/PILE/pile_uspto/data_2_time1600243253_1978.jsonl\n",
      "/home/vmagent/app/PILE/pile_uspto/data_2_time1600291526_1998.jsonl\n",
      "/home/vmagent/app/PILE/pile_uspto/data_2_time1600368167_2008.jsonl\n",
      "/home/vmagent/app/PILE/pile_uspto/data_3_time1600243638_1979.jsonl\n",
      "/home/vmagent/app/PILE/pile_uspto/data_3_time1600293502_1999.jsonl\n",
      "/home/vmagent/app/PILE/pile_uspto/data_3_time1600370287_2009.jsonl\n",
      "/home/vmagent/app/PILE/pile_uspto/data_4_time1600244129_1980.jsonl\n",
      "/home/vmagent/app/PILE/pile_uspto/data_4_time1600295577_2000.jsonl\n",
      "/home/vmagent/app/PILE/pile_uspto/data_4_time1600373162_2010.jsonl\n",
      "/home/vmagent/app/PILE/pile_uspto/data_5_time1600244662_1981.jsonl\n",
      "/home/vmagent/app/PILE/pile_uspto/data_5_time1600297749_2001.jsonl\n",
      "/home/vmagent/app/PILE/pile_uspto/data_5_time1600376227_2011.jsonl\n",
      "/home/vmagent/app/PILE/pile_uspto/data_6_time1600245134_1982.jsonl\n",
      "/home/vmagent/app/PILE/pile_uspto/data_6_time1600300737_2002.jsonl\n",
      "/home/vmagent/app/PILE/pile_uspto/data_6_time1600379743_2012.jsonl\n",
      "/home/vmagent/app/PILE/pile_uspto/data_7_time1600245601_1983.jsonl\n",
      "/home/vmagent/app/PILE/pile_uspto/data_7_time1600303730_2003.jsonl\n",
      "/home/vmagent/app/PILE/pile_uspto/data_7_time1600383780_2013.jsonl\n",
      "/home/vmagent/app/PILE/pile_uspto/data_8_time1600246160_1984.jsonl\n",
      "/home/vmagent/app/PILE/pile_uspto/data_8_time1600306688_2004.jsonl\n",
      "/home/vmagent/app/PILE/pile_uspto/data_8_time1600388299_2014.jsonl\n",
      "/home/vmagent/app/PILE/pile_uspto/data_9_time1600246762_1985.jsonl\n",
      "/home/vmagent/app/PILE/pile_uspto/data_9_time1600308480_2005.jsonl\n",
      "/home/vmagent/app/PILE/pile_uspto/data_9_time1600393078_2015.jsonl\n"
     ]
    },
    {
     "name": "stderr",
     "output_type": "stream",
     "text": [
      "[Stage 268:>                                                        (0 + 1) / 1]\r"
     ]
    },
    {
     "name": "stdout",
     "output_type": "stream",
     "text": [
      "Load data with RowID took 212.13308584492188 sec\n"
     ]
    },
    {
     "name": "stderr",
     "output_type": "stream",
     "text": [
      "                                                                                \r"
     ]
    }
   ],
   "source": [
    "with Timer(\"Load data with RowID\"):\n",
    "    df = read_json(data_files, spark).cache()\n",
    "    total_length = df.count()"
   ]
  },
  {
   "cell_type": "markdown",
   "id": "5a0f56b2-ebdc-4933-81fd-399e3234ea81",
   "metadata": {},
   "source": [
    "## Get minHashLSH edges"
   ]
  },
  {
   "cell_type": "code",
   "execution_count": 5,
   "id": "7a5ba001-0adc-49c5-b0fc-c539499318bd",
   "metadata": {},
   "outputs": [
    {
     "name": "stdout",
     "output_type": "stream",
     "text": [
      "num_bands is 9, ranges is 13\n",
      "generate minHashLsh started ...\n"
     ]
    },
    {
     "name": "stderr",
     "output_type": "stream",
     "text": [
      "                                                                                \r"
     ]
    },
    {
     "name": "stdout",
     "output_type": "stream",
     "text": [
      "generate minHashLsh took 1390.2824745549588 sec\n"
     ]
    }
   ],
   "source": [
    "pipeline = minHashLSH_prepare(df, num_perm, ngram_size, bands, ranges)\n",
    "with Timer(\"generate minHashLsh\"):\n",
    "    if os.path.exists(dup_dir):\n",
    "        shutil.rmtree(dup_dir, ignore_errors=True)\n",
    "    results = pipeline.saveAsTextFile(dup_dir)"
   ]
  },
  {
   "cell_type": "code",
   "execution_count": 6,
   "id": "50077ae0-131d-4930-9b6d-04f7d6c40bb3",
   "metadata": {},
   "outputs": [],
   "source": [
    "spark.stop()"
   ]
  },
  {
   "cell_type": "markdown",
   "id": "0116c740-a373-469c-937e-bcedb20f71d9",
   "metadata": {},
   "source": [
    "## Generate connected components"
   ]
  },
  {
   "cell_type": "code",
   "execution_count": 7,
   "id": "b6c69644-a12c-433d-9eaf-8632c63c042b",
   "metadata": {
    "scrolled": true
   },
   "outputs": [
    {
     "name": "stdout",
     "output_type": "stream",
     "text": [
      "generate_connected_components all started ...\n",
      "Started graph building\n"
     ]
    },
    {
     "name": "stderr",
     "output_type": "stream",
     "text": [
      "loop on file: 100%|███████████████████████████████████████████████████████████████████████████████████████████████████████████████████| 8801/8801 [00:01<00:00, 8729.32it/s]\n"
     ]
    },
    {
     "name": "stdout",
     "output_type": "stream",
     "text": [
      "length of the set of duplicates: 1220088 1.012829065322876\n"
     ]
    },
    {
     "name": "stderr",
     "output_type": "stream",
     "text": [
      "100%|█████████████████████████████████████████████████████████████████████████████████████████████████████████████████████████| 1220088/1220088 [00:01<00:00, 706828.50it/s]\n"
     ]
    },
    {
     "name": "stdout",
     "output_type": "stream",
     "text": [
      "number of connected components: 613348 4.172353982925415\n",
      "Graph generated duplicates list!!! 5.222286939620972\n",
      "generate_connected_components all took 5.889061606954783 sec\n"
     ]
    }
   ],
   "source": [
    "with Timer(f\"generate_connected_components all\"):\n",
    "    dup_connected_args = argparse.Namespace()\n",
    "    dup_connected_args.input_dir = dup_dir\n",
    "    dup_connected_args.out_file = os.path.join(\n",
    "        dup_dir, \"connected_components.pickle\"\n",
    "    )\n",
    "    generate_connected_components.generate_connected_components_mp(dup_connected_args)"
   ]
  },
  {
   "cell_type": "markdown",
   "id": "5abadeea-2aed-4de0-9508-6f17d735adf2",
   "metadata": {},
   "source": [
    "##  convert as duplicates dict"
   ]
  },
  {
   "cell_type": "code",
   "execution_count": 8,
   "id": "2dea1212-989f-4544-a087-0bfb1b40c664",
   "metadata": {},
   "outputs": [
    {
     "name": "stdout",
     "output_type": "stream",
     "text": [
      "generate_duplicates_dict all started ...\n",
      "Processing duplicates!!!\n"
     ]
    },
    {
     "name": "stderr",
     "output_type": "stream",
     "text": [
      "100%|███████████████████████████████████████████████████████████████████████████████████████████████████████████████████████████| 613348/613348 [00:01<00:00, 553290.64it/s]\n"
     ]
    },
    {
     "name": "stdout",
     "output_type": "stream",
     "text": [
      "number of duplicate documents that will be removed: 1063551\n",
      "generate_duplicates_dict all took 2.27969934605062 sec\n"
     ]
    }
   ],
   "source": [
    "with Timer(f\"generate_duplicates_dict all\"):\n",
    "    dup_docs = os.path.join(dup_dir, \"duplicates.pickle\")\n",
    "    dup_dict_args = argparse.Namespace()\n",
    "    dup_dict_args.input_file = os.path.join(\n",
    "        dup_dir, \"connected_components.pickle\"\n",
    "    )\n",
    "    dup_dict_args.out_file = dup_docs\n",
    "    generate_duplicates_dict.generate_duplicates(dup_dict_args)"
   ]
  },
  {
   "cell_type": "markdown",
   "id": "dbc0610b-6820-4beb-b71b-ab04f76ef97c",
   "metadata": {},
   "source": [
    "## View result"
   ]
  },
  {
   "cell_type": "code",
   "execution_count": 9,
   "id": "e056210c-907c-4938-b439-d31a4824eecb",
   "metadata": {},
   "outputs": [
    {
     "name": "stdout",
     "output_type": "stream",
     "text": [
      "Completed!!\n",
      "    total processed 5883037 documents\n",
      "    total detected 1063551 duplicated documents\n",
      "    duplicate ratio is 0.18078264678600525\n"
     ]
    }
   ],
   "source": [
    "dup_dict = pickle.load(open(os.path.join(dup_dir, \"duplicates.pickle\"), 'rb'))\n",
    "dup_sum = 0\n",
    "for _, v in dup_dict.items():\n",
    "    dup_sum += len(list(v))\n",
    "\n",
    "print(f\"Completed!!\")\n",
    "print(f\"    total processed {total_length} documents\")\n",
    "print(f\"    total detected {dup_sum} duplicated documents\")\n",
    "print(f\"    duplicate ratio is {dup_sum/total_length}\")"
   ]
  },
  {
   "cell_type": "code",
   "execution_count": null,
   "id": "053a9ddd-c398-4d17-a011-ed523c652bad",
   "metadata": {},
   "outputs": [],
   "source": []
  }
 ],
 "metadata": {
  "kernelspec": {
   "display_name": "Python 3 (ipykernel)",
   "language": "python",
   "name": "python3"
  },
  "language_info": {
   "codemirror_mode": {
    "name": "ipython",
    "version": 3
   },
   "file_extension": ".py",
   "mimetype": "text/x-python",
   "name": "python",
   "nbconvert_exporter": "python",
   "pygments_lexer": "ipython3",
   "version": "3.10.12"
  }
 },
 "nbformat": 4,
 "nbformat_minor": 5
}
