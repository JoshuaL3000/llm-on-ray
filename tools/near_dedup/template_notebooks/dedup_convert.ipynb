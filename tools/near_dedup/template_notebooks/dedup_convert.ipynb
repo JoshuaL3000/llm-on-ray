{
 "cells": [
  {
   "cell_type": "markdown",
   "id": "6cd83bf5-bd6e-4d1d-85b5-89a7d8e2ff95",
   "metadata": {},
   "source": [
    "# Import and define"
   ]
  },
  {
   "cell_type": "code",
   "execution_count": null,
   "id": "c4cd5492-7518-4331-abef-12a8ea561a1b",
   "metadata": {},
   "outputs": [],
   "source": [
    "from dedup_convert import *"
   ]
  },
  {
   "cell_type": "markdown",
   "id": "b9cbd6f6-2864-499d-814a-9df630898838",
   "metadata": {},
   "source": [
    "# Config "
   ]
  },
  {
   "cell_type": "code",
   "execution_count": null,
   "id": "ded76a88-461e-4fae-a88f-6b0b0d66db7f",
   "metadata": {},
   "outputs": [],
   "source": [
    "data_dir = \"/home/vmagent/app/test_data/\"\n",
    "dup_dir = os.path.join(data_dir, \"deduplicate\")\n",
    "dup_dict = os.path.join(dup_dir, \"duplicates.pickle\")\n",
    "out_dir = os.path.join(dup_dir, \"output\")"
   ]
  },
  {
   "cell_type": "markdown",
   "id": "bc18fbe4-5266-471b-9257-6bf1a94b2a4f",
   "metadata": {},
   "source": [
    "# Run shink"
   ]
  },
  {
   "cell_type": "code",
   "execution_count": null,
   "id": "6a20ea89-3fb8-4a63-9272-b61024d4fb9f",
   "metadata": {},
   "outputs": [],
   "source": [
    "with Timer(f\"apply duplicates.pickle to create new data\"):\n",
    "    dedup_args = argparse.Namespace()\n",
    "    dedup_args.data_dir = data_dir\n",
    "    dedup_args.out_dir = out_dir\n",
    "    dedup_args.dup_dict = dup_dict\n",
    "    shink_document_MP(dedup_args)"
   ]
  }
 ],
 "metadata": {
  "kernelspec": {
   "display_name": "Python 3 (ipykernel)",
   "language": "python",
   "name": "python3"
  },
  "language_info": {
   "codemirror_mode": {
    "name": "ipython",
    "version": 3
   },
   "file_extension": ".py",
   "mimetype": "text/x-python",
   "name": "python",
   "nbconvert_exporter": "python",
   "pygments_lexer": "ipython3",
   "version": "3.10.12"
  }
 },
 "nbformat": 4,
 "nbformat_minor": 5
}
